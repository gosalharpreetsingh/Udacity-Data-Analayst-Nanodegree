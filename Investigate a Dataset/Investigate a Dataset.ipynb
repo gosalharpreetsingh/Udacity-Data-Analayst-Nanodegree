{
 "cells": [
  {
   "cell_type": "markdown",
   "metadata": {},
   "source": [
    "# Investigate a Dataset (TMDB Movie Data)¶\n",
    "\n",
    "## Table of Contents\n",
    "<ul>\n",
    "<li><a href=\"#intro\">Introduction</a></li>\n",
    "<li><a href=\"#wrangling\">Data Wrangling</a></li>\n",
    "<li><a href=\"#eda\">Exploratory Data Analysis</a></li>\n",
    "<li><a href=\"#conclusions\">Conclusions</a></li>\n",
    "</ul>"
   ]
  },
  {
   "cell_type": "markdown",
   "metadata": {},
   "source": [
    "<a id='intro'></a>\n",
    "## Introduction\n",
    "\n",
    "Once we start to look at the TMDB dataset, we can start to notice some correlations or trends between different characteristics. The dataset will help us in understanding the various features and how they can be used to generate higher revenues.\n",
    "\n",
    "The questions that we will work on would be:\n",
    "\n",
    "><b> 1. </b> How much has the revenue generation changed over time?<br>\n",
    "><b> 2. </b> Which movie genres has the best ratings in the entire time period of the dataset?<br>\n",
    "><b> 3. </b> Which movie genres have the highest revenue generation?<br>\n",
    "><b> 4. </b> Which director is responsible for the highest revenue generation?"
   ]
  },
  {
   "cell_type": "code",
   "execution_count": 1,
   "metadata": {},
   "outputs": [],
   "source": [
    "# Importing the libraries that we shall use in this analysis\n",
    "\n",
    "import pandas as pd\n",
    "import numpy as np\n",
    "import seaborn as sns\n",
    "import matplotlib.pyplot as plt\n",
    "%matplotlib inline\n",
    "plt.style.use('ggplot')"
   ]
  },
  {
   "cell_type": "markdown",
   "metadata": {},
   "source": [
    "<a id='wrangling'></a>\n",
    "## Data Wrangling\n",
    "\n",
    "### Observations\n",
    "\n",
    "> <b>1.</b> Many unwanted columns present in our dataset, that we do not need for the process of analysis.<br>\n",
    "> <b>2.</b> There are some missing values in the 'director' and 'genre' section.<br>\n",
    "> <b>3.</b> Incase of the revenue and budget section, we have many '0' values. We cannot find the proper mean of these columns, if these null values exist.<br>\n",
    "> <b>4.</b> Genre and director column contain numerous values per cell delimite by '|', which will prevent us from forming correct groups of these data."
   ]
  },
  {
   "cell_type": "code",
   "execution_count": 2,
   "metadata": {},
   "outputs": [],
   "source": [
    "#Load dataset.\n",
    "# Original Dataset from https://www.kaggle.com/tmdb/tmdb-movie-metadata\n",
    "tmdb_data=pd.read_csv('tmdb-movies.csv')"
   ]
  },
  {
   "cell_type": "code",
   "execution_count": 3,
   "metadata": {},
   "outputs": [
    {
     "data": {
      "text/plain": [
       "Index(['id', 'imdb_id', 'popularity', 'budget', 'revenue', 'original_title',\n",
       "       'cast', 'homepage', 'director', 'tagline', 'keywords', 'overview',\n",
       "       'runtime', 'genres', 'production_companies', 'release_date',\n",
       "       'vote_count', 'vote_average', 'release_year', 'budget_adj',\n",
       "       'revenue_adj'],\n",
       "      dtype='object')"
      ]
     },
     "execution_count": 3,
     "metadata": {},
     "output_type": "execute_result"
    }
   ],
   "source": [
    "#Listing the columns of the dataset\n",
    "tmdb_data.columns"
   ]
  },
  {
   "cell_type": "code",
   "execution_count": 4,
   "metadata": {
    "scrolled": true
   },
   "outputs": [
    {
     "name": "stdout",
     "output_type": "stream",
     "text": [
      "<class 'pandas.core.frame.DataFrame'>\n",
      "RangeIndex: 10866 entries, 0 to 10865\n",
      "Data columns (total 21 columns):\n",
      " #   Column                Non-Null Count  Dtype  \n",
      "---  ------                --------------  -----  \n",
      " 0   id                    10866 non-null  int64  \n",
      " 1   imdb_id               10856 non-null  object \n",
      " 2   popularity            10866 non-null  float64\n",
      " 3   budget                10866 non-null  int64  \n",
      " 4   revenue               10866 non-null  int64  \n",
      " 5   original_title        10866 non-null  object \n",
      " 6   cast                  10790 non-null  object \n",
      " 7   homepage              2936 non-null   object \n",
      " 8   director              10822 non-null  object \n",
      " 9   tagline               8042 non-null   object \n",
      " 10  keywords              9373 non-null   object \n",
      " 11  overview              10862 non-null  object \n",
      " 12  runtime               10866 non-null  int64  \n",
      " 13  genres                10843 non-null  object \n",
      " 14  production_companies  9836 non-null   object \n",
      " 15  release_date          10866 non-null  object \n",
      " 16  vote_count            10866 non-null  int64  \n",
      " 17  vote_average          10866 non-null  float64\n",
      " 18  release_year          10866 non-null  int64  \n",
      " 19  budget_adj            10866 non-null  float64\n",
      " 20  revenue_adj           10866 non-null  float64\n",
      "dtypes: float64(4), int64(6), object(11)\n",
      "memory usage: 1.7+ MB\n"
     ]
    }
   ],
   "source": [
    "#Basic information of the columns.\n",
    "tmdb_data.info()"
   ]
  },
  {
   "cell_type": "code",
   "execution_count": 5,
   "metadata": {},
   "outputs": [
    {
     "data": {
      "text/html": [
       "<div>\n",
       "<style scoped>\n",
       "    .dataframe tbody tr th:only-of-type {\n",
       "        vertical-align: middle;\n",
       "    }\n",
       "\n",
       "    .dataframe tbody tr th {\n",
       "        vertical-align: top;\n",
       "    }\n",
       "\n",
       "    .dataframe thead th {\n",
       "        text-align: right;\n",
       "    }\n",
       "</style>\n",
       "<table border=\"1\" class=\"dataframe\">\n",
       "  <thead>\n",
       "    <tr style=\"text-align: right;\">\n",
       "      <th></th>\n",
       "      <th>id</th>\n",
       "      <th>imdb_id</th>\n",
       "      <th>popularity</th>\n",
       "      <th>budget</th>\n",
       "      <th>revenue</th>\n",
       "      <th>original_title</th>\n",
       "      <th>cast</th>\n",
       "      <th>homepage</th>\n",
       "      <th>director</th>\n",
       "      <th>tagline</th>\n",
       "      <th>...</th>\n",
       "      <th>overview</th>\n",
       "      <th>runtime</th>\n",
       "      <th>genres</th>\n",
       "      <th>production_companies</th>\n",
       "      <th>release_date</th>\n",
       "      <th>vote_count</th>\n",
       "      <th>vote_average</th>\n",
       "      <th>release_year</th>\n",
       "      <th>budget_adj</th>\n",
       "      <th>revenue_adj</th>\n",
       "    </tr>\n",
       "  </thead>\n",
       "  <tbody>\n",
       "    <tr>\n",
       "      <th>0</th>\n",
       "      <td>135397</td>\n",
       "      <td>tt0369610</td>\n",
       "      <td>32.985763</td>\n",
       "      <td>150000000</td>\n",
       "      <td>1513528810</td>\n",
       "      <td>Jurassic World</td>\n",
       "      <td>Chris Pratt|Bryce Dallas Howard|Irrfan Khan|Vi...</td>\n",
       "      <td>http://www.jurassicworld.com/</td>\n",
       "      <td>Colin Trevorrow</td>\n",
       "      <td>The park is open.</td>\n",
       "      <td>...</td>\n",
       "      <td>Twenty-two years after the events of Jurassic ...</td>\n",
       "      <td>124</td>\n",
       "      <td>Action|Adventure|Science Fiction|Thriller</td>\n",
       "      <td>Universal Studios|Amblin Entertainment|Legenda...</td>\n",
       "      <td>6/9/15</td>\n",
       "      <td>5562</td>\n",
       "      <td>6.5</td>\n",
       "      <td>2015</td>\n",
       "      <td>1.379999e+08</td>\n",
       "      <td>1.392446e+09</td>\n",
       "    </tr>\n",
       "    <tr>\n",
       "      <th>1</th>\n",
       "      <td>76341</td>\n",
       "      <td>tt1392190</td>\n",
       "      <td>28.419936</td>\n",
       "      <td>150000000</td>\n",
       "      <td>378436354</td>\n",
       "      <td>Mad Max: Fury Road</td>\n",
       "      <td>Tom Hardy|Charlize Theron|Hugh Keays-Byrne|Nic...</td>\n",
       "      <td>http://www.madmaxmovie.com/</td>\n",
       "      <td>George Miller</td>\n",
       "      <td>What a Lovely Day.</td>\n",
       "      <td>...</td>\n",
       "      <td>An apocalyptic story set in the furthest reach...</td>\n",
       "      <td>120</td>\n",
       "      <td>Action|Adventure|Science Fiction|Thriller</td>\n",
       "      <td>Village Roadshow Pictures|Kennedy Miller Produ...</td>\n",
       "      <td>5/13/15</td>\n",
       "      <td>6185</td>\n",
       "      <td>7.1</td>\n",
       "      <td>2015</td>\n",
       "      <td>1.379999e+08</td>\n",
       "      <td>3.481613e+08</td>\n",
       "    </tr>\n",
       "    <tr>\n",
       "      <th>2</th>\n",
       "      <td>262500</td>\n",
       "      <td>tt2908446</td>\n",
       "      <td>13.112507</td>\n",
       "      <td>110000000</td>\n",
       "      <td>295238201</td>\n",
       "      <td>Insurgent</td>\n",
       "      <td>Shailene Woodley|Theo James|Kate Winslet|Ansel...</td>\n",
       "      <td>http://www.thedivergentseries.movie/#insurgent</td>\n",
       "      <td>Robert Schwentke</td>\n",
       "      <td>One Choice Can Destroy You</td>\n",
       "      <td>...</td>\n",
       "      <td>Beatrice Prior must confront her inner demons ...</td>\n",
       "      <td>119</td>\n",
       "      <td>Adventure|Science Fiction|Thriller</td>\n",
       "      <td>Summit Entertainment|Mandeville Films|Red Wago...</td>\n",
       "      <td>3/18/15</td>\n",
       "      <td>2480</td>\n",
       "      <td>6.3</td>\n",
       "      <td>2015</td>\n",
       "      <td>1.012000e+08</td>\n",
       "      <td>2.716190e+08</td>\n",
       "    </tr>\n",
       "    <tr>\n",
       "      <th>3</th>\n",
       "      <td>140607</td>\n",
       "      <td>tt2488496</td>\n",
       "      <td>11.173104</td>\n",
       "      <td>200000000</td>\n",
       "      <td>2068178225</td>\n",
       "      <td>Star Wars: The Force Awakens</td>\n",
       "      <td>Harrison Ford|Mark Hamill|Carrie Fisher|Adam D...</td>\n",
       "      <td>http://www.starwars.com/films/star-wars-episod...</td>\n",
       "      <td>J.J. Abrams</td>\n",
       "      <td>Every generation has a story.</td>\n",
       "      <td>...</td>\n",
       "      <td>Thirty years after defeating the Galactic Empi...</td>\n",
       "      <td>136</td>\n",
       "      <td>Action|Adventure|Science Fiction|Fantasy</td>\n",
       "      <td>Lucasfilm|Truenorth Productions|Bad Robot</td>\n",
       "      <td>12/15/15</td>\n",
       "      <td>5292</td>\n",
       "      <td>7.5</td>\n",
       "      <td>2015</td>\n",
       "      <td>1.839999e+08</td>\n",
       "      <td>1.902723e+09</td>\n",
       "    </tr>\n",
       "    <tr>\n",
       "      <th>4</th>\n",
       "      <td>168259</td>\n",
       "      <td>tt2820852</td>\n",
       "      <td>9.335014</td>\n",
       "      <td>190000000</td>\n",
       "      <td>1506249360</td>\n",
       "      <td>Furious 7</td>\n",
       "      <td>Vin Diesel|Paul Walker|Jason Statham|Michelle ...</td>\n",
       "      <td>http://www.furious7.com/</td>\n",
       "      <td>James Wan</td>\n",
       "      <td>Vengeance Hits Home</td>\n",
       "      <td>...</td>\n",
       "      <td>Deckard Shaw seeks revenge against Dominic Tor...</td>\n",
       "      <td>137</td>\n",
       "      <td>Action|Crime|Thriller</td>\n",
       "      <td>Universal Pictures|Original Film|Media Rights ...</td>\n",
       "      <td>4/1/15</td>\n",
       "      <td>2947</td>\n",
       "      <td>7.3</td>\n",
       "      <td>2015</td>\n",
       "      <td>1.747999e+08</td>\n",
       "      <td>1.385749e+09</td>\n",
       "    </tr>\n",
       "  </tbody>\n",
       "</table>\n",
       "<p>5 rows × 21 columns</p>\n",
       "</div>"
      ],
      "text/plain": [
       "       id    imdb_id  popularity     budget     revenue  \\\n",
       "0  135397  tt0369610   32.985763  150000000  1513528810   \n",
       "1   76341  tt1392190   28.419936  150000000   378436354   \n",
       "2  262500  tt2908446   13.112507  110000000   295238201   \n",
       "3  140607  tt2488496   11.173104  200000000  2068178225   \n",
       "4  168259  tt2820852    9.335014  190000000  1506249360   \n",
       "\n",
       "                 original_title  \\\n",
       "0                Jurassic World   \n",
       "1            Mad Max: Fury Road   \n",
       "2                     Insurgent   \n",
       "3  Star Wars: The Force Awakens   \n",
       "4                     Furious 7   \n",
       "\n",
       "                                                cast  \\\n",
       "0  Chris Pratt|Bryce Dallas Howard|Irrfan Khan|Vi...   \n",
       "1  Tom Hardy|Charlize Theron|Hugh Keays-Byrne|Nic...   \n",
       "2  Shailene Woodley|Theo James|Kate Winslet|Ansel...   \n",
       "3  Harrison Ford|Mark Hamill|Carrie Fisher|Adam D...   \n",
       "4  Vin Diesel|Paul Walker|Jason Statham|Michelle ...   \n",
       "\n",
       "                                            homepage          director  \\\n",
       "0                      http://www.jurassicworld.com/   Colin Trevorrow   \n",
       "1                        http://www.madmaxmovie.com/     George Miller   \n",
       "2     http://www.thedivergentseries.movie/#insurgent  Robert Schwentke   \n",
       "3  http://www.starwars.com/films/star-wars-episod...       J.J. Abrams   \n",
       "4                           http://www.furious7.com/         James Wan   \n",
       "\n",
       "                         tagline  ...  \\\n",
       "0              The park is open.  ...   \n",
       "1             What a Lovely Day.  ...   \n",
       "2     One Choice Can Destroy You  ...   \n",
       "3  Every generation has a story.  ...   \n",
       "4            Vengeance Hits Home  ...   \n",
       "\n",
       "                                            overview runtime  \\\n",
       "0  Twenty-two years after the events of Jurassic ...     124   \n",
       "1  An apocalyptic story set in the furthest reach...     120   \n",
       "2  Beatrice Prior must confront her inner demons ...     119   \n",
       "3  Thirty years after defeating the Galactic Empi...     136   \n",
       "4  Deckard Shaw seeks revenge against Dominic Tor...     137   \n",
       "\n",
       "                                      genres  \\\n",
       "0  Action|Adventure|Science Fiction|Thriller   \n",
       "1  Action|Adventure|Science Fiction|Thriller   \n",
       "2         Adventure|Science Fiction|Thriller   \n",
       "3   Action|Adventure|Science Fiction|Fantasy   \n",
       "4                      Action|Crime|Thriller   \n",
       "\n",
       "                                production_companies release_date vote_count  \\\n",
       "0  Universal Studios|Amblin Entertainment|Legenda...       6/9/15       5562   \n",
       "1  Village Roadshow Pictures|Kennedy Miller Produ...      5/13/15       6185   \n",
       "2  Summit Entertainment|Mandeville Films|Red Wago...      3/18/15       2480   \n",
       "3          Lucasfilm|Truenorth Productions|Bad Robot     12/15/15       5292   \n",
       "4  Universal Pictures|Original Film|Media Rights ...       4/1/15       2947   \n",
       "\n",
       "   vote_average  release_year    budget_adj   revenue_adj  \n",
       "0           6.5          2015  1.379999e+08  1.392446e+09  \n",
       "1           7.1          2015  1.379999e+08  3.481613e+08  \n",
       "2           6.3          2015  1.012000e+08  2.716190e+08  \n",
       "3           7.5          2015  1.839999e+08  1.902723e+09  \n",
       "4           7.3          2015  1.747999e+08  1.385749e+09  \n",
       "\n",
       "[5 rows x 21 columns]"
      ]
     },
     "execution_count": 5,
     "metadata": {},
     "output_type": "execute_result"
    }
   ],
   "source": [
    "tmdb_data.head()"
   ]
  },
  {
   "cell_type": "markdown",
   "metadata": {},
   "source": [
    "### Data Cleaning\n",
    "><b>1. </b>Now in this stage, we will remove the unnecessary data and extract the relavant data from the main dataset. Now there is some null data in our genre and director column, so we need to remove this using the <em>dropna</em> method.<br>\n",
    "><b>2. </b>We can remove the budget and revenue coloumns, since the columns, 'revenue_adj' and 'budget_adj' are more appropriate since they take into consideration inflation.<br>\n",
    "><b>3. </b>Also we will remove certain columns like id, imdb_id, cast, etc. as they are currently not needed in our analysis.<br>\n",
    "><b>4. </b>Delimiting of genre and director columns will be done through the <em>assign</em> and <em>explode</em> methods.<br>\n",
    "><b>5. </b>When using the mean method on 'budget_adj' and 'revenue_adj' columns, we need to make sure to remove the cells with the 0 values. <br>\n",
    "\n",
    "<b> We must note that whenever required, we will further clean the dataset as cleaning or removing values right now will cause a significant decrease in data and cause incorrect data analysis.<br>\n",
    "Also, for each question we will create a copy of the original cleaned dataframe as the changes required for one question might not be suitable for thte other.\n",
    "</b>"
   ]
  },
  {
   "cell_type": "code",
   "execution_count": 6,
   "metadata": {},
   "outputs": [],
   "source": [
    "#After discussing the problem and charactersistics of the dataset, we will start to perform the cleaning process.\n",
    "#First we will remove the unewanted columns from the dataset.\n",
    "unused_columns=['id','imdb_id','budget', 'revenue','cast','homepage','tagline','keywords','overview','runtime', \\\n",
    "                'production_companies','release_date','vote_count']\n",
    "tmdb_data.drop(unused_columns,axis=1,inplace=True)"
   ]
  },
  {
   "cell_type": "code",
   "execution_count": 7,
   "metadata": {},
   "outputs": [
    {
     "data": {
      "text/html": [
       "<div>\n",
       "<style scoped>\n",
       "    .dataframe tbody tr th:only-of-type {\n",
       "        vertical-align: middle;\n",
       "    }\n",
       "\n",
       "    .dataframe tbody tr th {\n",
       "        vertical-align: top;\n",
       "    }\n",
       "\n",
       "    .dataframe thead th {\n",
       "        text-align: right;\n",
       "    }\n",
       "</style>\n",
       "<table border=\"1\" class=\"dataframe\">\n",
       "  <thead>\n",
       "    <tr style=\"text-align: right;\">\n",
       "      <th></th>\n",
       "      <th>popularity</th>\n",
       "      <th>original_title</th>\n",
       "      <th>director</th>\n",
       "      <th>genres</th>\n",
       "      <th>vote_average</th>\n",
       "      <th>release_year</th>\n",
       "      <th>budget_adj</th>\n",
       "      <th>revenue_adj</th>\n",
       "    </tr>\n",
       "  </thead>\n",
       "  <tbody>\n",
       "    <tr>\n",
       "      <th>0</th>\n",
       "      <td>32.985763</td>\n",
       "      <td>Jurassic World</td>\n",
       "      <td>Colin Trevorrow</td>\n",
       "      <td>Action|Adventure|Science Fiction|Thriller</td>\n",
       "      <td>6.5</td>\n",
       "      <td>2015</td>\n",
       "      <td>1.379999e+08</td>\n",
       "      <td>1.392446e+09</td>\n",
       "    </tr>\n",
       "    <tr>\n",
       "      <th>1</th>\n",
       "      <td>28.419936</td>\n",
       "      <td>Mad Max: Fury Road</td>\n",
       "      <td>George Miller</td>\n",
       "      <td>Action|Adventure|Science Fiction|Thriller</td>\n",
       "      <td>7.1</td>\n",
       "      <td>2015</td>\n",
       "      <td>1.379999e+08</td>\n",
       "      <td>3.481613e+08</td>\n",
       "    </tr>\n",
       "    <tr>\n",
       "      <th>2</th>\n",
       "      <td>13.112507</td>\n",
       "      <td>Insurgent</td>\n",
       "      <td>Robert Schwentke</td>\n",
       "      <td>Adventure|Science Fiction|Thriller</td>\n",
       "      <td>6.3</td>\n",
       "      <td>2015</td>\n",
       "      <td>1.012000e+08</td>\n",
       "      <td>2.716190e+08</td>\n",
       "    </tr>\n",
       "    <tr>\n",
       "      <th>3</th>\n",
       "      <td>11.173104</td>\n",
       "      <td>Star Wars: The Force Awakens</td>\n",
       "      <td>J.J. Abrams</td>\n",
       "      <td>Action|Adventure|Science Fiction|Fantasy</td>\n",
       "      <td>7.5</td>\n",
       "      <td>2015</td>\n",
       "      <td>1.839999e+08</td>\n",
       "      <td>1.902723e+09</td>\n",
       "    </tr>\n",
       "    <tr>\n",
       "      <th>4</th>\n",
       "      <td>9.335014</td>\n",
       "      <td>Furious 7</td>\n",
       "      <td>James Wan</td>\n",
       "      <td>Action|Crime|Thriller</td>\n",
       "      <td>7.3</td>\n",
       "      <td>2015</td>\n",
       "      <td>1.747999e+08</td>\n",
       "      <td>1.385749e+09</td>\n",
       "    </tr>\n",
       "  </tbody>\n",
       "</table>\n",
       "</div>"
      ],
      "text/plain": [
       "   popularity                original_title          director  \\\n",
       "0   32.985763                Jurassic World   Colin Trevorrow   \n",
       "1   28.419936            Mad Max: Fury Road     George Miller   \n",
       "2   13.112507                     Insurgent  Robert Schwentke   \n",
       "3   11.173104  Star Wars: The Force Awakens       J.J. Abrams   \n",
       "4    9.335014                     Furious 7         James Wan   \n",
       "\n",
       "                                      genres  vote_average  release_year  \\\n",
       "0  Action|Adventure|Science Fiction|Thriller           6.5          2015   \n",
       "1  Action|Adventure|Science Fiction|Thriller           7.1          2015   \n",
       "2         Adventure|Science Fiction|Thriller           6.3          2015   \n",
       "3   Action|Adventure|Science Fiction|Fantasy           7.5          2015   \n",
       "4                      Action|Crime|Thriller           7.3          2015   \n",
       "\n",
       "     budget_adj   revenue_adj  \n",
       "0  1.379999e+08  1.392446e+09  \n",
       "1  1.379999e+08  3.481613e+08  \n",
       "2  1.012000e+08  2.716190e+08  \n",
       "3  1.839999e+08  1.902723e+09  \n",
       "4  1.747999e+08  1.385749e+09  "
      ]
     },
     "execution_count": 7,
     "metadata": {},
     "output_type": "execute_result"
    }
   ],
   "source": [
    "tmdb_data.head()"
   ]
  },
  {
   "cell_type": "code",
   "execution_count": 8,
   "metadata": {},
   "outputs": [
    {
     "data": {
      "text/html": [
       "<div>\n",
       "<style scoped>\n",
       "    .dataframe tbody tr th:only-of-type {\n",
       "        vertical-align: middle;\n",
       "    }\n",
       "\n",
       "    .dataframe tbody tr th {\n",
       "        vertical-align: top;\n",
       "    }\n",
       "\n",
       "    .dataframe thead th {\n",
       "        text-align: right;\n",
       "    }\n",
       "</style>\n",
       "<table border=\"1\" class=\"dataframe\">\n",
       "  <thead>\n",
       "    <tr style=\"text-align: right;\">\n",
       "      <th></th>\n",
       "      <th>popularity</th>\n",
       "      <th>original_title</th>\n",
       "      <th>director</th>\n",
       "      <th>genres</th>\n",
       "      <th>vote_average</th>\n",
       "      <th>release_year</th>\n",
       "      <th>budget_adj</th>\n",
       "      <th>revenue_adj</th>\n",
       "    </tr>\n",
       "  </thead>\n",
       "  <tbody>\n",
       "    <tr>\n",
       "      <th>0</th>\n",
       "      <td>33.0</td>\n",
       "      <td>Jurassic World</td>\n",
       "      <td>Colin Trevorrow</td>\n",
       "      <td>Action|Adventure|Science Fiction|Thriller</td>\n",
       "      <td>6.5</td>\n",
       "      <td>2015</td>\n",
       "      <td>137,999,939.3</td>\n",
       "      <td>1,392,445,892.5</td>\n",
       "    </tr>\n",
       "    <tr>\n",
       "      <th>1</th>\n",
       "      <td>28.4</td>\n",
       "      <td>Mad Max: Fury Road</td>\n",
       "      <td>George Miller</td>\n",
       "      <td>Action|Adventure|Science Fiction|Thriller</td>\n",
       "      <td>7.1</td>\n",
       "      <td>2015</td>\n",
       "      <td>137,999,939.3</td>\n",
       "      <td>348,161,292.5</td>\n",
       "    </tr>\n",
       "    <tr>\n",
       "      <th>2</th>\n",
       "      <td>13.1</td>\n",
       "      <td>Insurgent</td>\n",
       "      <td>Robert Schwentke</td>\n",
       "      <td>Adventure|Science Fiction|Thriller</td>\n",
       "      <td>6.3</td>\n",
       "      <td>2015</td>\n",
       "      <td>101,199,955.5</td>\n",
       "      <td>271,619,025.4</td>\n",
       "    </tr>\n",
       "    <tr>\n",
       "      <th>3</th>\n",
       "      <td>11.2</td>\n",
       "      <td>Star Wars: The Force Awakens</td>\n",
       "      <td>J.J. Abrams</td>\n",
       "      <td>Action|Adventure|Science Fiction|Fantasy</td>\n",
       "      <td>7.5</td>\n",
       "      <td>2015</td>\n",
       "      <td>183,999,919.0</td>\n",
       "      <td>1,902,723,129.8</td>\n",
       "    </tr>\n",
       "    <tr>\n",
       "      <th>4</th>\n",
       "      <td>9.3</td>\n",
       "      <td>Furious 7</td>\n",
       "      <td>James Wan</td>\n",
       "      <td>Action|Crime|Thriller</td>\n",
       "      <td>7.3</td>\n",
       "      <td>2015</td>\n",
       "      <td>174,799,923.1</td>\n",
       "      <td>1,385,748,801.5</td>\n",
       "    </tr>\n",
       "  </tbody>\n",
       "</table>\n",
       "</div>"
      ],
      "text/plain": [
       "   popularity                original_title          director  \\\n",
       "0        33.0                Jurassic World   Colin Trevorrow   \n",
       "1        28.4            Mad Max: Fury Road     George Miller   \n",
       "2        13.1                     Insurgent  Robert Schwentke   \n",
       "3        11.2  Star Wars: The Force Awakens       J.J. Abrams   \n",
       "4         9.3                     Furious 7         James Wan   \n",
       "\n",
       "                                      genres  vote_average  release_year  \\\n",
       "0  Action|Adventure|Science Fiction|Thriller           6.5          2015   \n",
       "1  Action|Adventure|Science Fiction|Thriller           7.1          2015   \n",
       "2         Adventure|Science Fiction|Thriller           6.3          2015   \n",
       "3   Action|Adventure|Science Fiction|Fantasy           7.5          2015   \n",
       "4                      Action|Crime|Thriller           7.3          2015   \n",
       "\n",
       "     budget_adj     revenue_adj  \n",
       "0 137,999,939.3 1,392,445,892.5  \n",
       "1 137,999,939.3   348,161,292.5  \n",
       "2 101,199,955.5   271,619,025.4  \n",
       "3 183,999,919.0 1,902,723,129.8  \n",
       "4 174,799,923.1 1,385,748,801.5  "
      ]
     },
     "execution_count": 8,
     "metadata": {},
     "output_type": "execute_result"
    }
   ],
   "source": [
    "#Remove the scientific notation being used in order to avoid confusion\n",
    "pd.options.display.float_format = '{:,.1f}'.format\n",
    "tmdb_data.head()"
   ]
  },
  {
   "cell_type": "code",
   "execution_count": 9,
   "metadata": {},
   "outputs": [],
   "source": [
    "#Converting budget and revenue in millions\n",
    "tmdb_data['budget_adj'] = tmdb_data['budget_adj']/1000000\n",
    "tmdb_data['revenue_adj'] = tmdb_data['revenue_adj']/1000000"
   ]
  },
  {
   "cell_type": "code",
   "execution_count": 10,
   "metadata": {},
   "outputs": [],
   "source": [
    "#renaming some columns for better understanding.\n",
    "tmdb_data.rename(columns = {\"budget_adj\": \"budget\", \"revenue_adj\": \"revenue\"}, inplace=True)"
   ]
  },
  {
   "cell_type": "markdown",
   "metadata": {},
   "source": [
    "We can use the names budget and revenue as we have already removed the original columns and making these changes for our cleaned dataframe"
   ]
  },
  {
   "cell_type": "code",
   "execution_count": 11,
   "metadata": {},
   "outputs": [
    {
     "data": {
      "text/html": [
       "<div>\n",
       "<style scoped>\n",
       "    .dataframe tbody tr th:only-of-type {\n",
       "        vertical-align: middle;\n",
       "    }\n",
       "\n",
       "    .dataframe tbody tr th {\n",
       "        vertical-align: top;\n",
       "    }\n",
       "\n",
       "    .dataframe thead th {\n",
       "        text-align: right;\n",
       "    }\n",
       "</style>\n",
       "<table border=\"1\" class=\"dataframe\">\n",
       "  <thead>\n",
       "    <tr style=\"text-align: right;\">\n",
       "      <th></th>\n",
       "      <th>popularity</th>\n",
       "      <th>original_title</th>\n",
       "      <th>director</th>\n",
       "      <th>genres</th>\n",
       "      <th>vote_average</th>\n",
       "      <th>release_year</th>\n",
       "      <th>budget</th>\n",
       "      <th>revenue</th>\n",
       "    </tr>\n",
       "  </thead>\n",
       "  <tbody>\n",
       "    <tr>\n",
       "      <th>0</th>\n",
       "      <td>33.0</td>\n",
       "      <td>Jurassic World</td>\n",
       "      <td>Colin Trevorrow</td>\n",
       "      <td>Action|Adventure|Science Fiction|Thriller</td>\n",
       "      <td>6.5</td>\n",
       "      <td>2015</td>\n",
       "      <td>138.0</td>\n",
       "      <td>1,392.4</td>\n",
       "    </tr>\n",
       "    <tr>\n",
       "      <th>1</th>\n",
       "      <td>28.4</td>\n",
       "      <td>Mad Max: Fury Road</td>\n",
       "      <td>George Miller</td>\n",
       "      <td>Action|Adventure|Science Fiction|Thriller</td>\n",
       "      <td>7.1</td>\n",
       "      <td>2015</td>\n",
       "      <td>138.0</td>\n",
       "      <td>348.2</td>\n",
       "    </tr>\n",
       "    <tr>\n",
       "      <th>2</th>\n",
       "      <td>13.1</td>\n",
       "      <td>Insurgent</td>\n",
       "      <td>Robert Schwentke</td>\n",
       "      <td>Adventure|Science Fiction|Thriller</td>\n",
       "      <td>6.3</td>\n",
       "      <td>2015</td>\n",
       "      <td>101.2</td>\n",
       "      <td>271.6</td>\n",
       "    </tr>\n",
       "    <tr>\n",
       "      <th>3</th>\n",
       "      <td>11.2</td>\n",
       "      <td>Star Wars: The Force Awakens</td>\n",
       "      <td>J.J. Abrams</td>\n",
       "      <td>Action|Adventure|Science Fiction|Fantasy</td>\n",
       "      <td>7.5</td>\n",
       "      <td>2015</td>\n",
       "      <td>184.0</td>\n",
       "      <td>1,902.7</td>\n",
       "    </tr>\n",
       "    <tr>\n",
       "      <th>4</th>\n",
       "      <td>9.3</td>\n",
       "      <td>Furious 7</td>\n",
       "      <td>James Wan</td>\n",
       "      <td>Action|Crime|Thriller</td>\n",
       "      <td>7.3</td>\n",
       "      <td>2015</td>\n",
       "      <td>174.8</td>\n",
       "      <td>1,385.7</td>\n",
       "    </tr>\n",
       "  </tbody>\n",
       "</table>\n",
       "</div>"
      ],
      "text/plain": [
       "   popularity                original_title          director  \\\n",
       "0        33.0                Jurassic World   Colin Trevorrow   \n",
       "1        28.4            Mad Max: Fury Road     George Miller   \n",
       "2        13.1                     Insurgent  Robert Schwentke   \n",
       "3        11.2  Star Wars: The Force Awakens       J.J. Abrams   \n",
       "4         9.3                     Furious 7         James Wan   \n",
       "\n",
       "                                      genres  vote_average  release_year  \\\n",
       "0  Action|Adventure|Science Fiction|Thriller           6.5          2015   \n",
       "1  Action|Adventure|Science Fiction|Thriller           7.1          2015   \n",
       "2         Adventure|Science Fiction|Thriller           6.3          2015   \n",
       "3   Action|Adventure|Science Fiction|Fantasy           7.5          2015   \n",
       "4                      Action|Crime|Thriller           7.3          2015   \n",
       "\n",
       "   budget  revenue  \n",
       "0   138.0  1,392.4  \n",
       "1   138.0    348.2  \n",
       "2   101.2    271.6  \n",
       "3   184.0  1,902.7  \n",
       "4   174.8  1,385.7  "
      ]
     },
     "execution_count": 11,
     "metadata": {},
     "output_type": "execute_result"
    }
   ],
   "source": [
    "tmdb_data.head()"
   ]
  },
  {
   "cell_type": "markdown",
   "metadata": {},
   "source": [
    "<a id='eda'></a>\n",
    "## Exploratory Data Analysis\n",
    "\n",
    "#### Research Question 1: \"How much has the revenue generation changed over time\"?\n",
    "Initially, we make a new dataframe from the original cleaned dataframe and perform changes in it which are only required for the analysis according to this question. The new dataframe is made so that we don't accidently make changes in the original cleaned dataset.<br>\n",
    "Now we remove the cells with 0 as thier value in the total_revenue and total_budget columns, as it will affect the analysis.\n"
   ]
  },
  {
   "cell_type": "code",
   "execution_count": 12,
   "metadata": {
    "scrolled": false
   },
   "outputs": [
    {
     "data": {
      "text/html": [
       "<div>\n",
       "<style scoped>\n",
       "    .dataframe tbody tr th:only-of-type {\n",
       "        vertical-align: middle;\n",
       "    }\n",
       "\n",
       "    .dataframe tbody tr th {\n",
       "        vertical-align: top;\n",
       "    }\n",
       "\n",
       "    .dataframe thead th {\n",
       "        text-align: right;\n",
       "    }\n",
       "</style>\n",
       "<table border=\"1\" class=\"dataframe\">\n",
       "  <thead>\n",
       "    <tr style=\"text-align: right;\">\n",
       "      <th></th>\n",
       "      <th>popularity</th>\n",
       "      <th>original_title</th>\n",
       "      <th>director</th>\n",
       "      <th>genres</th>\n",
       "      <th>vote_average</th>\n",
       "      <th>release_year</th>\n",
       "      <th>budget</th>\n",
       "      <th>revenue</th>\n",
       "    </tr>\n",
       "  </thead>\n",
       "  <tbody>\n",
       "    <tr>\n",
       "      <th>0</th>\n",
       "      <td>33.0</td>\n",
       "      <td>Jurassic World</td>\n",
       "      <td>Colin Trevorrow</td>\n",
       "      <td>Action|Adventure|Science Fiction|Thriller</td>\n",
       "      <td>6.5</td>\n",
       "      <td>2015</td>\n",
       "      <td>138.0</td>\n",
       "      <td>1,392.4</td>\n",
       "    </tr>\n",
       "    <tr>\n",
       "      <th>1</th>\n",
       "      <td>28.4</td>\n",
       "      <td>Mad Max: Fury Road</td>\n",
       "      <td>George Miller</td>\n",
       "      <td>Action|Adventure|Science Fiction|Thriller</td>\n",
       "      <td>7.1</td>\n",
       "      <td>2015</td>\n",
       "      <td>138.0</td>\n",
       "      <td>348.2</td>\n",
       "    </tr>\n",
       "    <tr>\n",
       "      <th>2</th>\n",
       "      <td>13.1</td>\n",
       "      <td>Insurgent</td>\n",
       "      <td>Robert Schwentke</td>\n",
       "      <td>Adventure|Science Fiction|Thriller</td>\n",
       "      <td>6.3</td>\n",
       "      <td>2015</td>\n",
       "      <td>101.2</td>\n",
       "      <td>271.6</td>\n",
       "    </tr>\n",
       "    <tr>\n",
       "      <th>3</th>\n",
       "      <td>11.2</td>\n",
       "      <td>Star Wars: The Force Awakens</td>\n",
       "      <td>J.J. Abrams</td>\n",
       "      <td>Action|Adventure|Science Fiction|Fantasy</td>\n",
       "      <td>7.5</td>\n",
       "      <td>2015</td>\n",
       "      <td>184.0</td>\n",
       "      <td>1,902.7</td>\n",
       "    </tr>\n",
       "    <tr>\n",
       "      <th>4</th>\n",
       "      <td>9.3</td>\n",
       "      <td>Furious 7</td>\n",
       "      <td>James Wan</td>\n",
       "      <td>Action|Crime|Thriller</td>\n",
       "      <td>7.3</td>\n",
       "      <td>2015</td>\n",
       "      <td>174.8</td>\n",
       "      <td>1,385.7</td>\n",
       "    </tr>\n",
       "  </tbody>\n",
       "</table>\n",
       "</div>"
      ],
      "text/plain": [
       "   popularity                original_title          director  \\\n",
       "0        33.0                Jurassic World   Colin Trevorrow   \n",
       "1        28.4            Mad Max: Fury Road     George Miller   \n",
       "2        13.1                     Insurgent  Robert Schwentke   \n",
       "3        11.2  Star Wars: The Force Awakens       J.J. Abrams   \n",
       "4         9.3                     Furious 7         James Wan   \n",
       "\n",
       "                                      genres  vote_average  release_year  \\\n",
       "0  Action|Adventure|Science Fiction|Thriller           6.5          2015   \n",
       "1  Action|Adventure|Science Fiction|Thriller           7.1          2015   \n",
       "2         Adventure|Science Fiction|Thriller           6.3          2015   \n",
       "3   Action|Adventure|Science Fiction|Fantasy           7.5          2015   \n",
       "4                      Action|Crime|Thriller           7.3          2015   \n",
       "\n",
       "   budget  revenue  \n",
       "0   138.0  1,392.4  \n",
       "1   138.0    348.2  \n",
       "2   101.2    271.6  \n",
       "3   184.0  1,902.7  \n",
       "4   174.8  1,385.7  "
      ]
     },
     "execution_count": 12,
     "metadata": {},
     "output_type": "execute_result"
    }
   ],
   "source": [
    "tmdb_br = tmdb_data.query('budget > 0 & revenue > 0')\n",
    "tmdb_br.head()"
   ]
  },
  {
   "cell_type": "code",
   "execution_count": 13,
   "metadata": {},
   "outputs": [],
   "source": [
    "tmdb_br_year=tmdb_br.groupby('release_year').revenue.mean()"
   ]
  },
  {
   "cell_type": "code",
   "execution_count": 14,
   "metadata": {},
   "outputs": [
    {
     "data": {
      "image/png": "[encoded data removed]",
      "text/plain": [
       "<Figure size 864x576 with 1 Axes>"
      ]
     },
     "metadata": {},
     "output_type": "display_data"
    }
   ],
   "source": [
    "#Plot the graph\n",
    "fig, ax = plt.subplots(figsize=(12,8))\n",
    "tmdb_br_year.plot(kind='line', legend = False, ax=ax)\n",
    "ax.set_xlabel('Release Years')\n",
    "ax.set_ylabel('Rvenue Generated')\n",
    "ax.set_title('Revenue Generated with respect to inflation against Release Years');"
   ]
  },
  {
   "cell_type": "markdown",
   "metadata": {},
   "source": [
    "The above graph shows that there has been <b>a significant decrease in revenue generation over the years.</b> Even though the amount of revenue is far more but due to the inflation the value of this revenue has certainly decreased."
   ]
  },
  {
   "cell_type": "markdown",
   "metadata": {},
   "source": [
    "#### Research Question 2: \"Which movie genres has the best ratings in the entire time period of the dataset\"?\n",
    "We need to seperate the genres which are bound together in a cell using delimiters, i.e., ( | ). Also there are some null values in the genre column, we need to drop those too."
   ]
  },
  {
   "cell_type": "code",
   "execution_count": 15,
   "metadata": {},
   "outputs": [],
   "source": [
    "#Copying the dataframe to a new dataframe\n",
    "tmdb_genres = tmdb_data.copy()"
   ]
  },
  {
   "cell_type": "code",
   "execution_count": 16,
   "metadata": {},
   "outputs": [
    {
     "data": {
      "text/plain": [
       "popularity         0\n",
       "original_title     0\n",
       "director          44\n",
       "genres            23\n",
       "vote_average       0\n",
       "release_year       0\n",
       "budget             0\n",
       "revenue            0\n",
       "dtype: int64"
      ]
     },
     "execution_count": 16,
     "metadata": {},
     "output_type": "execute_result"
    }
   ],
   "source": [
    "tmdb_genres.isnull().sum()"
   ]
  },
  {
   "cell_type": "code",
   "execution_count": 17,
   "metadata": {},
   "outputs": [],
   "source": [
    "tmdb_genres.dropna(inplace=True)"
   ]
  },
  {
   "cell_type": "code",
   "execution_count": 18,
   "metadata": {
    "scrolled": false
   },
   "outputs": [
    {
     "data": {
      "text/plain": [
       "popularity        0\n",
       "original_title    0\n",
       "director          0\n",
       "genres            0\n",
       "vote_average      0\n",
       "release_year      0\n",
       "budget            0\n",
       "revenue           0\n",
       "dtype: int64"
      ]
     },
     "execution_count": 18,
     "metadata": {},
     "output_type": "execute_result"
    }
   ],
   "source": [
    "tmdb_genres.isnull().sum()"
   ]
  },
  {
   "cell_type": "code",
   "execution_count": 19,
   "metadata": {
    "scrolled": true
   },
   "outputs": [
    {
     "data": {
      "text/html": [
       "<div>\n",
       "<style scoped>\n",
       "    .dataframe tbody tr th:only-of-type {\n",
       "        vertical-align: middle;\n",
       "    }\n",
       "\n",
       "    .dataframe tbody tr th {\n",
       "        vertical-align: top;\n",
       "    }\n",
       "\n",
       "    .dataframe thead th {\n",
       "        text-align: right;\n",
       "    }\n",
       "</style>\n",
       "<table border=\"1\" class=\"dataframe\">\n",
       "  <thead>\n",
       "    <tr style=\"text-align: right;\">\n",
       "      <th></th>\n",
       "      <th>popularity</th>\n",
       "      <th>original_title</th>\n",
       "      <th>director</th>\n",
       "      <th>genres</th>\n",
       "      <th>vote_average</th>\n",
       "      <th>release_year</th>\n",
       "      <th>budget</th>\n",
       "      <th>revenue</th>\n",
       "    </tr>\n",
       "  </thead>\n",
       "  <tbody>\n",
       "    <tr>\n",
       "      <th>0</th>\n",
       "      <td>0.0</td>\n",
       "      <td>The Story of Film: An Odyssey</td>\n",
       "      <td>Mark Cousins</td>\n",
       "      <td>Documentary</td>\n",
       "      <td>9.2</td>\n",
       "      <td>2011</td>\n",
       "      <td>0.0</td>\n",
       "      <td>0.0</td>\n",
       "    </tr>\n",
       "    <tr>\n",
       "      <th>1</th>\n",
       "      <td>0.1</td>\n",
       "      <td>The Mask You Live In</td>\n",
       "      <td>Jennifer Siebel Newsom</td>\n",
       "      <td>Documentary</td>\n",
       "      <td>8.9</td>\n",
       "      <td>2015</td>\n",
       "      <td>0.0</td>\n",
       "      <td>0.0</td>\n",
       "    </tr>\n",
       "    <tr>\n",
       "      <th>2</th>\n",
       "      <td>0.2</td>\n",
       "      <td>Life Cycles</td>\n",
       "      <td>Derek Frankowski</td>\n",
       "      <td>Documentary</td>\n",
       "      <td>8.8</td>\n",
       "      <td>2010</td>\n",
       "      <td>0.0</td>\n",
       "      <td>0.0</td>\n",
       "    </tr>\n",
       "    <tr>\n",
       "      <th>3</th>\n",
       "      <td>0.1</td>\n",
       "      <td>Black Mirror: White Christmas</td>\n",
       "      <td>Carl Tibbetts</td>\n",
       "      <td>Drama|Horror|Mystery|Science Fiction|Thriller</td>\n",
       "      <td>8.8</td>\n",
       "      <td>2014</td>\n",
       "      <td>0.0</td>\n",
       "      <td>0.0</td>\n",
       "    </tr>\n",
       "    <tr>\n",
       "      <th>4</th>\n",
       "      <td>0.2</td>\n",
       "      <td>Pink Floyd: Pulse</td>\n",
       "      <td>David Mallet</td>\n",
       "      <td>Music</td>\n",
       "      <td>8.7</td>\n",
       "      <td>2006</td>\n",
       "      <td>0.0</td>\n",
       "      <td>0.0</td>\n",
       "    </tr>\n",
       "  </tbody>\n",
       "</table>\n",
       "</div>"
      ],
      "text/plain": [
       "   popularity                 original_title                director  \\\n",
       "0         0.0  The Story of Film: An Odyssey            Mark Cousins   \n",
       "1         0.1           The Mask You Live In  Jennifer Siebel Newsom   \n",
       "2         0.2                    Life Cycles        Derek Frankowski   \n",
       "3         0.1  Black Mirror: White Christmas           Carl Tibbetts   \n",
       "4         0.2              Pink Floyd: Pulse            David Mallet   \n",
       "\n",
       "                                          genres  vote_average  release_year  \\\n",
       "0                                    Documentary           9.2          2011   \n",
       "1                                    Documentary           8.9          2015   \n",
       "2                                    Documentary           8.8          2010   \n",
       "3  Drama|Horror|Mystery|Science Fiction|Thriller           8.8          2014   \n",
       "4                                          Music           8.7          2006   \n",
       "\n",
       "   budget  revenue  \n",
       "0     0.0      0.0  \n",
       "1     0.0      0.0  \n",
       "2     0.0      0.0  \n",
       "3     0.0      0.0  \n",
       "4     0.0      0.0  "
      ]
     },
     "execution_count": 19,
     "metadata": {},
     "output_type": "execute_result"
    }
   ],
   "source": [
    "#We need to reindex the dataframe as we remove some values\n",
    "tmdb_genres.sort_values('vote_average',ascending=False, inplace=True)\n",
    "tmdb_genres.reset_index(drop=True,inplace=True)\n",
    "tmdb_genres.head()"
   ]
  },
  {
   "cell_type": "code",
   "execution_count": 20,
   "metadata": {},
   "outputs": [],
   "source": [
    "#Split the genres which are bound together\n",
    "genre_df=tmdb_genres.assign(genres=tmdb_genres['genres'].str.split('|')).explode('genres').reset_index(drop=True)"
   ]
  },
  {
   "cell_type": "code",
   "execution_count": 21,
   "metadata": {},
   "outputs": [
    {
     "data": {
      "text/html": [
       "<div>\n",
       "<style scoped>\n",
       "    .dataframe tbody tr th:only-of-type {\n",
       "        vertical-align: middle;\n",
       "    }\n",
       "\n",
       "    .dataframe tbody tr th {\n",
       "        vertical-align: top;\n",
       "    }\n",
       "\n",
       "    .dataframe thead th {\n",
       "        text-align: right;\n",
       "    }\n",
       "</style>\n",
       "<table border=\"1\" class=\"dataframe\">\n",
       "  <thead>\n",
       "    <tr style=\"text-align: right;\">\n",
       "      <th></th>\n",
       "      <th>popularity</th>\n",
       "      <th>original_title</th>\n",
       "      <th>director</th>\n",
       "      <th>genres</th>\n",
       "      <th>vote_average</th>\n",
       "      <th>release_year</th>\n",
       "      <th>budget</th>\n",
       "      <th>revenue</th>\n",
       "    </tr>\n",
       "  </thead>\n",
       "  <tbody>\n",
       "    <tr>\n",
       "      <th>0</th>\n",
       "      <td>0.0</td>\n",
       "      <td>The Story of Film: An Odyssey</td>\n",
       "      <td>Mark Cousins</td>\n",
       "      <td>Documentary</td>\n",
       "      <td>9.2</td>\n",
       "      <td>2011</td>\n",
       "      <td>0.0</td>\n",
       "      <td>0.0</td>\n",
       "    </tr>\n",
       "    <tr>\n",
       "      <th>1</th>\n",
       "      <td>0.1</td>\n",
       "      <td>The Mask You Live In</td>\n",
       "      <td>Jennifer Siebel Newsom</td>\n",
       "      <td>Documentary</td>\n",
       "      <td>8.9</td>\n",
       "      <td>2015</td>\n",
       "      <td>0.0</td>\n",
       "      <td>0.0</td>\n",
       "    </tr>\n",
       "    <tr>\n",
       "      <th>2</th>\n",
       "      <td>0.2</td>\n",
       "      <td>Life Cycles</td>\n",
       "      <td>Derek Frankowski</td>\n",
       "      <td>Documentary</td>\n",
       "      <td>8.8</td>\n",
       "      <td>2010</td>\n",
       "      <td>0.0</td>\n",
       "      <td>0.0</td>\n",
       "    </tr>\n",
       "    <tr>\n",
       "      <th>3</th>\n",
       "      <td>0.1</td>\n",
       "      <td>Black Mirror: White Christmas</td>\n",
       "      <td>Carl Tibbetts</td>\n",
       "      <td>Drama</td>\n",
       "      <td>8.8</td>\n",
       "      <td>2014</td>\n",
       "      <td>0.0</td>\n",
       "      <td>0.0</td>\n",
       "    </tr>\n",
       "    <tr>\n",
       "      <th>4</th>\n",
       "      <td>0.1</td>\n",
       "      <td>Black Mirror: White Christmas</td>\n",
       "      <td>Carl Tibbetts</td>\n",
       "      <td>Horror</td>\n",
       "      <td>8.8</td>\n",
       "      <td>2014</td>\n",
       "      <td>0.0</td>\n",
       "      <td>0.0</td>\n",
       "    </tr>\n",
       "  </tbody>\n",
       "</table>\n",
       "</div>"
      ],
      "text/plain": [
       "   popularity                 original_title                director  \\\n",
       "0         0.0  The Story of Film: An Odyssey            Mark Cousins   \n",
       "1         0.1           The Mask You Live In  Jennifer Siebel Newsom   \n",
       "2         0.2                    Life Cycles        Derek Frankowski   \n",
       "3         0.1  Black Mirror: White Christmas           Carl Tibbetts   \n",
       "4         0.1  Black Mirror: White Christmas           Carl Tibbetts   \n",
       "\n",
       "        genres  vote_average  release_year  budget  revenue  \n",
       "0  Documentary           9.2          2011     0.0      0.0  \n",
       "1  Documentary           8.9          2015     0.0      0.0  \n",
       "2  Documentary           8.8          2010     0.0      0.0  \n",
       "3        Drama           8.8          2014     0.0      0.0  \n",
       "4       Horror           8.8          2014     0.0      0.0  "
      ]
     },
     "execution_count": 21,
     "metadata": {},
     "output_type": "execute_result"
    }
   ],
   "source": [
    "genre_df.head()"
   ]
  },
  {
   "cell_type": "code",
   "execution_count": 22,
   "metadata": {},
   "outputs": [
    {
     "data": {
      "text/plain": [
       "genres\n",
       "Action            5.8\n",
       "Adventure         5.9\n",
       "Animation         6.4\n",
       "Comedy            5.9\n",
       "Crime             6.1\n",
       "Documentary       6.9\n",
       "Drama             6.2\n",
       "Family            6.0\n",
       "Fantasy           5.9\n",
       "Foreign           6.0\n",
       "History           6.4\n",
       "Horror            5.3\n",
       "Music             6.5\n",
       "Mystery           5.9\n",
       "Romance           6.0\n",
       "Science Fiction   5.7\n",
       "TV Movie          5.7\n",
       "Thriller          5.8\n",
       "War               6.3\n",
       "Western           6.1\n",
       "Name: vote_average, dtype: float64"
      ]
     },
     "execution_count": 22,
     "metadata": {},
     "output_type": "execute_result"
    }
   ],
   "source": [
    "genre_df.groupby(['genres']).vote_average.mean()"
   ]
  },
  {
   "cell_type": "code",
   "execution_count": 23,
   "metadata": {},
   "outputs": [],
   "source": [
    "##grouping the dataframe with genre against mean rating\n",
    "gen_rat=genre_df.groupby(['genres']).vote_average.mean()"
   ]
  },
  {
   "cell_type": "code",
   "execution_count": 24,
   "metadata": {
    "scrolled": true
   },
   "outputs": [],
   "source": [
    "gen_rat.sort_values(inplace=True)"
   ]
  },
  {
   "cell_type": "code",
   "execution_count": 25,
   "metadata": {
    "scrolled": true
   },
   "outputs": [
    {
     "data": {
      "image/png": "[encoded data removed]",
      "text/plain": [
       "<Figure size 864x576 with 1 Axes>"
      ]
     },
     "metadata": {},
     "output_type": "display_data"
    }
   ],
   "source": [
    "fig, ax = plt.subplots(figsize=(12,8))\n",
    "gen_rat.plot(kind='barh', legend = False, ax=ax)\n",
    "ax.set_xlabel('Average Ratings')\n",
    "ax.set_ylabel('Movie Genres')\n",
    "ax.set_title('Average Ratings against Movie Genres');"
   ]
  },
  {
   "cell_type": "markdown",
   "metadata": {},
   "source": [
    "We can see here that the genres <b>'Documentary', 'Music', 'History'</b> and <b>'Animation'</b> have been liked by people alot over these years."
   ]
  },
  {
   "cell_type": "markdown",
   "metadata": {},
   "source": [
    "#### Research Question 3: \"Which movie genres have the highest revenue generation\"?\n",
    "We can use the cleaned dataframe <b>genre_df</b> that was used in the previous question as we need to split the genres for this question as well."
   ]
  },
  {
   "cell_type": "code",
   "execution_count": 26,
   "metadata": {},
   "outputs": [
    {
     "data": {
      "text/html": [
       "<div>\n",
       "<style scoped>\n",
       "    .dataframe tbody tr th:only-of-type {\n",
       "        vertical-align: middle;\n",
       "    }\n",
       "\n",
       "    .dataframe tbody tr th {\n",
       "        vertical-align: top;\n",
       "    }\n",
       "\n",
       "    .dataframe thead th {\n",
       "        text-align: right;\n",
       "    }\n",
       "</style>\n",
       "<table border=\"1\" class=\"dataframe\">\n",
       "  <thead>\n",
       "    <tr style=\"text-align: right;\">\n",
       "      <th></th>\n",
       "      <th>popularity</th>\n",
       "      <th>original_title</th>\n",
       "      <th>director</th>\n",
       "      <th>genres</th>\n",
       "      <th>vote_average</th>\n",
       "      <th>release_year</th>\n",
       "      <th>budget</th>\n",
       "      <th>revenue</th>\n",
       "    </tr>\n",
       "  </thead>\n",
       "  <tbody>\n",
       "    <tr>\n",
       "      <th>0</th>\n",
       "      <td>7.2</td>\n",
       "      <td>The Shawshank Redemption</td>\n",
       "      <td>Frank Darabont</td>\n",
       "      <td>Drama</td>\n",
       "      <td>8.4</td>\n",
       "      <td>1994</td>\n",
       "      <td>36.8</td>\n",
       "      <td>41.7</td>\n",
       "    </tr>\n",
       "    <tr>\n",
       "      <th>1</th>\n",
       "      <td>7.2</td>\n",
       "      <td>The Shawshank Redemption</td>\n",
       "      <td>Frank Darabont</td>\n",
       "      <td>Crime</td>\n",
       "      <td>8.4</td>\n",
       "      <td>1994</td>\n",
       "      <td>36.8</td>\n",
       "      <td>41.7</td>\n",
       "    </tr>\n",
       "    <tr>\n",
       "      <th>2</th>\n",
       "      <td>0.3</td>\n",
       "      <td>Stop Making Sense</td>\n",
       "      <td>Jonathan Demme</td>\n",
       "      <td>Documentary</td>\n",
       "      <td>8.4</td>\n",
       "      <td>1984</td>\n",
       "      <td>2.5</td>\n",
       "      <td>10.5</td>\n",
       "    </tr>\n",
       "    <tr>\n",
       "      <th>3</th>\n",
       "      <td>0.3</td>\n",
       "      <td>Stop Making Sense</td>\n",
       "      <td>Jonathan Demme</td>\n",
       "      <td>Music</td>\n",
       "      <td>8.4</td>\n",
       "      <td>1984</td>\n",
       "      <td>2.5</td>\n",
       "      <td>10.5</td>\n",
       "    </tr>\n",
       "    <tr>\n",
       "      <th>4</th>\n",
       "      <td>5.7</td>\n",
       "      <td>The Godfather</td>\n",
       "      <td>Francis Ford Coppola</td>\n",
       "      <td>Drama</td>\n",
       "      <td>8.3</td>\n",
       "      <td>1972</td>\n",
       "      <td>31.3</td>\n",
       "      <td>1,277.9</td>\n",
       "    </tr>\n",
       "    <tr>\n",
       "      <th>...</th>\n",
       "      <td>...</td>\n",
       "      <td>...</td>\n",
       "      <td>...</td>\n",
       "      <td>...</td>\n",
       "      <td>...</td>\n",
       "      <td>...</td>\n",
       "      <td>...</td>\n",
       "      <td>...</td>\n",
       "    </tr>\n",
       "    <tr>\n",
       "      <th>12660</th>\n",
       "      <td>0.1</td>\n",
       "      <td>Foodfight!</td>\n",
       "      <td>Lawrence Kasanoff</td>\n",
       "      <td>Action</td>\n",
       "      <td>2.2</td>\n",
       "      <td>2012</td>\n",
       "      <td>61.7</td>\n",
       "      <td>0.1</td>\n",
       "    </tr>\n",
       "    <tr>\n",
       "      <th>12661</th>\n",
       "      <td>0.1</td>\n",
       "      <td>Foodfight!</td>\n",
       "      <td>Lawrence Kasanoff</td>\n",
       "      <td>Comedy</td>\n",
       "      <td>2.2</td>\n",
       "      <td>2012</td>\n",
       "      <td>61.7</td>\n",
       "      <td>0.1</td>\n",
       "    </tr>\n",
       "    <tr>\n",
       "      <th>12662</th>\n",
       "      <td>0.1</td>\n",
       "      <td>Foodfight!</td>\n",
       "      <td>Lawrence Kasanoff</td>\n",
       "      <td>Family</td>\n",
       "      <td>2.2</td>\n",
       "      <td>2012</td>\n",
       "      <td>61.7</td>\n",
       "      <td>0.1</td>\n",
       "    </tr>\n",
       "    <tr>\n",
       "      <th>12663</th>\n",
       "      <td>0.2</td>\n",
       "      <td>Superbabies: Baby Geniuses 2</td>\n",
       "      <td>Bob Clark</td>\n",
       "      <td>Family</td>\n",
       "      <td>2.1</td>\n",
       "      <td>2004</td>\n",
       "      <td>0.0</td>\n",
       "      <td>10.5</td>\n",
       "    </tr>\n",
       "    <tr>\n",
       "      <th>12664</th>\n",
       "      <td>0.2</td>\n",
       "      <td>Superbabies: Baby Geniuses 2</td>\n",
       "      <td>Bob Clark</td>\n",
       "      <td>Comedy</td>\n",
       "      <td>2.1</td>\n",
       "      <td>2004</td>\n",
       "      <td>0.0</td>\n",
       "      <td>10.5</td>\n",
       "    </tr>\n",
       "  </tbody>\n",
       "</table>\n",
       "<p>12665 rows × 8 columns</p>\n",
       "</div>"
      ],
      "text/plain": [
       "       popularity                original_title              director  \\\n",
       "0             7.2      The Shawshank Redemption        Frank Darabont   \n",
       "1             7.2      The Shawshank Redemption        Frank Darabont   \n",
       "2             0.3             Stop Making Sense        Jonathan Demme   \n",
       "3             0.3             Stop Making Sense        Jonathan Demme   \n",
       "4             5.7                 The Godfather  Francis Ford Coppola   \n",
       "...           ...                           ...                   ...   \n",
       "12660         0.1                    Foodfight!     Lawrence Kasanoff   \n",
       "12661         0.1                    Foodfight!     Lawrence Kasanoff   \n",
       "12662         0.1                    Foodfight!     Lawrence Kasanoff   \n",
       "12663         0.2  Superbabies: Baby Geniuses 2             Bob Clark   \n",
       "12664         0.2  Superbabies: Baby Geniuses 2             Bob Clark   \n",
       "\n",
       "            genres  vote_average  release_year  budget  revenue  \n",
       "0            Drama           8.4          1994    36.8     41.7  \n",
       "1            Crime           8.4          1994    36.8     41.7  \n",
       "2      Documentary           8.4          1984     2.5     10.5  \n",
       "3            Music           8.4          1984     2.5     10.5  \n",
       "4            Drama           8.3          1972    31.3  1,277.9  \n",
       "...            ...           ...           ...     ...      ...  \n",
       "12660       Action           2.2          2012    61.7      0.1  \n",
       "12661       Comedy           2.2          2012    61.7      0.1  \n",
       "12662       Family           2.2          2012    61.7      0.1  \n",
       "12663       Family           2.1          2004     0.0     10.5  \n",
       "12664       Comedy           2.1          2004     0.0     10.5  \n",
       "\n",
       "[12665 rows x 8 columns]"
      ]
     },
     "execution_count": 26,
     "metadata": {},
     "output_type": "execute_result"
    }
   ],
   "source": [
    "#However we need to remove the cells with revenue =0, as we are performing an analysis on the revenue.\n",
    "genre_df = genre_df.query(\"revenue > 0\")\n",
    "genre_df.reset_index(drop=True)"
   ]
  },
  {
   "cell_type": "code",
   "execution_count": 27,
   "metadata": {},
   "outputs": [],
   "source": [
    "#grouping the dataframe with genre against the mean revenue\n",
    "gen_rev=genre_df.groupby(['genres']).revenue.mean()\n",
    "gen_rev.sort_values(inplace=True)"
   ]
  },
  {
   "cell_type": "code",
   "execution_count": 28,
   "metadata": {
    "scrolled": true
   },
   "outputs": [
    {
     "data": {
      "image/png": "[encoded data removed]",
      "text/plain": [
       "<Figure size 864x576 with 1 Axes>"
      ]
     },
     "metadata": {},
     "output_type": "display_data"
    }
   ],
   "source": [
    "fig, ax = plt.subplots(figsize=(12,8))\n",
    "gen_rev.plot(kind='barh', legend = False, ax=ax)\n",
    "ax.set_ylabel('Movie Genres')\n",
    "ax.set_xlabel('Average Revenue generated')\n",
    "ax.set_title('Average Revenue generated against Movie Genres');"
   ]
  },
  {
   "cell_type": "markdown",
   "metadata": {},
   "source": [
    "We can see that the <b>Animation</b> and  <b>Adventure</b> genres have generated the most revenue in the time period."
   ]
  },
  {
   "cell_type": "markdown",
   "metadata": {},
   "source": [
    "#### Research Question 4: \"Which director is responsible for the highest revenue generation?\"?\n",
    "We will again make a copy of the original cleaned dataframe for this question. Also, like genre we need to split the director cells in this as there can be multiple director of a single movie."
   ]
  },
  {
   "cell_type": "code",
   "execution_count": 29,
   "metadata": {},
   "outputs": [],
   "source": [
    "tmdb_dir=tmdb_data.copy()"
   ]
  },
  {
   "cell_type": "code",
   "execution_count": 30,
   "metadata": {},
   "outputs": [
    {
     "data": {
      "text/plain": [
       "popularity         0\n",
       "original_title     0\n",
       "director          44\n",
       "genres            23\n",
       "vote_average       0\n",
       "release_year       0\n",
       "budget             0\n",
       "revenue            0\n",
       "dtype: int64"
      ]
     },
     "execution_count": 30,
     "metadata": {},
     "output_type": "execute_result"
    }
   ],
   "source": [
    "#We remove the null values from the dataframe\n",
    "tmdb_dir.isnull().sum()"
   ]
  },
  {
   "cell_type": "code",
   "execution_count": 31,
   "metadata": {},
   "outputs": [],
   "source": [
    "tmdb_dir.dropna(inplace=True)"
   ]
  },
  {
   "cell_type": "code",
   "execution_count": 32,
   "metadata": {
    "scrolled": false
   },
   "outputs": [
    {
     "data": {
      "text/plain": [
       "popularity        0\n",
       "original_title    0\n",
       "director          0\n",
       "genres            0\n",
       "vote_average      0\n",
       "release_year      0\n",
       "budget            0\n",
       "revenue           0\n",
       "dtype: int64"
      ]
     },
     "execution_count": 32,
     "metadata": {},
     "output_type": "execute_result"
    }
   ],
   "source": [
    "tmdb_dir.isnull().sum()"
   ]
  },
  {
   "cell_type": "code",
   "execution_count": 33,
   "metadata": {},
   "outputs": [
    {
     "data": {
      "text/html": [
       "<div>\n",
       "<style scoped>\n",
       "    .dataframe tbody tr th:only-of-type {\n",
       "        vertical-align: middle;\n",
       "    }\n",
       "\n",
       "    .dataframe tbody tr th {\n",
       "        vertical-align: top;\n",
       "    }\n",
       "\n",
       "    .dataframe thead th {\n",
       "        text-align: right;\n",
       "    }\n",
       "</style>\n",
       "<table border=\"1\" class=\"dataframe\">\n",
       "  <thead>\n",
       "    <tr style=\"text-align: right;\">\n",
       "      <th></th>\n",
       "      <th>popularity</th>\n",
       "      <th>original_title</th>\n",
       "      <th>director</th>\n",
       "      <th>genres</th>\n",
       "      <th>vote_average</th>\n",
       "      <th>release_year</th>\n",
       "      <th>budget</th>\n",
       "      <th>revenue</th>\n",
       "    </tr>\n",
       "  </thead>\n",
       "  <tbody>\n",
       "    <tr>\n",
       "      <th>0</th>\n",
       "      <td>33.0</td>\n",
       "      <td>Jurassic World</td>\n",
       "      <td>Colin Trevorrow</td>\n",
       "      <td>Action|Adventure|Science Fiction|Thriller</td>\n",
       "      <td>6.5</td>\n",
       "      <td>2015</td>\n",
       "      <td>138.0</td>\n",
       "      <td>1,392.4</td>\n",
       "    </tr>\n",
       "    <tr>\n",
       "      <th>1</th>\n",
       "      <td>28.4</td>\n",
       "      <td>Mad Max: Fury Road</td>\n",
       "      <td>George Miller</td>\n",
       "      <td>Action|Adventure|Science Fiction|Thriller</td>\n",
       "      <td>7.1</td>\n",
       "      <td>2015</td>\n",
       "      <td>138.0</td>\n",
       "      <td>348.2</td>\n",
       "    </tr>\n",
       "    <tr>\n",
       "      <th>2</th>\n",
       "      <td>13.1</td>\n",
       "      <td>Insurgent</td>\n",
       "      <td>Robert Schwentke</td>\n",
       "      <td>Adventure|Science Fiction|Thriller</td>\n",
       "      <td>6.3</td>\n",
       "      <td>2015</td>\n",
       "      <td>101.2</td>\n",
       "      <td>271.6</td>\n",
       "    </tr>\n",
       "    <tr>\n",
       "      <th>3</th>\n",
       "      <td>11.2</td>\n",
       "      <td>Star Wars: The Force Awakens</td>\n",
       "      <td>J.J. Abrams</td>\n",
       "      <td>Action|Adventure|Science Fiction|Fantasy</td>\n",
       "      <td>7.5</td>\n",
       "      <td>2015</td>\n",
       "      <td>184.0</td>\n",
       "      <td>1,902.7</td>\n",
       "    </tr>\n",
       "    <tr>\n",
       "      <th>4</th>\n",
       "      <td>9.3</td>\n",
       "      <td>Furious 7</td>\n",
       "      <td>James Wan</td>\n",
       "      <td>Action|Crime|Thriller</td>\n",
       "      <td>7.3</td>\n",
       "      <td>2015</td>\n",
       "      <td>174.8</td>\n",
       "      <td>1,385.7</td>\n",
       "    </tr>\n",
       "  </tbody>\n",
       "</table>\n",
       "</div>"
      ],
      "text/plain": [
       "   popularity                original_title          director  \\\n",
       "0        33.0                Jurassic World   Colin Trevorrow   \n",
       "1        28.4            Mad Max: Fury Road     George Miller   \n",
       "2        13.1                     Insurgent  Robert Schwentke   \n",
       "3        11.2  Star Wars: The Force Awakens       J.J. Abrams   \n",
       "4         9.3                     Furious 7         James Wan   \n",
       "\n",
       "                                      genres  vote_average  release_year  \\\n",
       "0  Action|Adventure|Science Fiction|Thriller           6.5          2015   \n",
       "1  Action|Adventure|Science Fiction|Thriller           7.1          2015   \n",
       "2         Adventure|Science Fiction|Thriller           6.3          2015   \n",
       "3   Action|Adventure|Science Fiction|Fantasy           7.5          2015   \n",
       "4                      Action|Crime|Thriller           7.3          2015   \n",
       "\n",
       "   budget  revenue  \n",
       "0   138.0  1,392.4  \n",
       "1   138.0    348.2  \n",
       "2   101.2    271.6  \n",
       "3   184.0  1,902.7  \n",
       "4   174.8  1,385.7  "
      ]
     },
     "execution_count": 33,
     "metadata": {},
     "output_type": "execute_result"
    }
   ],
   "source": [
    "#However we need to remove the cells with revenue =0, as we are performing an analysis on the revenue.\n",
    "tmdb_dir = tmdb_dir.query(\"revenue > 0\")\n",
    "tmdb_dir.reset_index(drop=True)\n",
    "tmdb_dir.head()"
   ]
  },
  {
   "cell_type": "code",
   "execution_count": 34,
   "metadata": {},
   "outputs": [],
   "source": [
    "#Spliting the cells with delimiter ( | ) present.\n",
    "tmdb_dir=tmdb_dir.assign(director=tmdb_dir['director'].str.split('|')).explode('director').reset_index(drop=True)"
   ]
  },
  {
   "cell_type": "code",
   "execution_count": 35,
   "metadata": {},
   "outputs": [
    {
     "data": {
      "text/plain": [
       "director\n",
       "Steven Spielberg    28\n",
       "Clint Eastwood      26\n",
       "Woody Allen         22\n",
       "Ridley Scott        22\n",
       "Martin Scorsese     18\n",
       "Name: original_title, dtype: int64"
      ]
     },
     "execution_count": 35,
     "metadata": {},
     "output_type": "execute_result"
    }
   ],
   "source": [
    "#We group the directors together keeping the \"original title\" as index so as to find the number of movies directed \n",
    "#by each director and extract the top 15 directors from that.\n",
    "dir_df = (tmdb_dir.groupby(['director'])['original_title'].count()).sort_values(ascending=False)\n",
    "dir_df = dir_df[:15]\n",
    "dir_df.head()"
   ]
  },
  {
   "cell_type": "code",
   "execution_count": 36,
   "metadata": {
    "scrolled": false
   },
   "outputs": [
    {
     "data": {
      "text/plain": [
       "director\n",
       "Renny Harlin         15\n",
       "Oliver Stone         15\n",
       "Rob Reiner           15\n",
       "Brian De Palma       15\n",
       "Joel Schumacher      16\n",
       "Tony Scott           16\n",
       "Robert Rodriguez     17\n",
       "Tim Burton           17\n",
       "Steven Soderbergh    17\n",
       "Martin Scorsese      18\n",
       "Ron Howard           18\n",
       "Woody Allen          22\n",
       "Ridley Scott         22\n",
       "Clint Eastwood       26\n",
       "Steven Spielberg     28\n",
       "Name: original_title, dtype: int64"
      ]
     },
     "execution_count": 36,
     "metadata": {},
     "output_type": "execute_result"
    }
   ],
   "source": [
    "dir_df.sort_values(ascending=True)"
   ]
  },
  {
   "cell_type": "markdown",
   "metadata": {},
   "source": [
    "Now we need to extract all the movies directed by these directors only from our cleaned dataframe so as to find the highest revenue generated director"
   ]
  },
  {
   "cell_type": "code",
   "execution_count": 37,
   "metadata": {
    "scrolled": true
   },
   "outputs": [],
   "source": [
    "#We use a temperory dataframe to append all the movies by the top directors and then save it in our dir_df dataframe.\n",
    "temp_df = pd.DataFrame()\n",
    "for direct,v in dir_df.items():\n",
    "    temp_df = temp_df.append(tmdb_dir[tmdb_dir['director'].str.contains(direct)],ignore_index=True)\n",
    "dir_df = temp_df"
   ]
  },
  {
   "cell_type": "code",
   "execution_count": 38,
   "metadata": {},
   "outputs": [
    {
     "data": {
      "text/html": [
       "<div>\n",
       "<style scoped>\n",
       "    .dataframe tbody tr th:only-of-type {\n",
       "        vertical-align: middle;\n",
       "    }\n",
       "\n",
       "    .dataframe tbody tr th {\n",
       "        vertical-align: top;\n",
       "    }\n",
       "\n",
       "    .dataframe thead th {\n",
       "        text-align: right;\n",
       "    }\n",
       "</style>\n",
       "<table border=\"1\" class=\"dataframe\">\n",
       "  <thead>\n",
       "    <tr style=\"text-align: right;\">\n",
       "      <th></th>\n",
       "      <th>popularity</th>\n",
       "      <th>original_title</th>\n",
       "      <th>director</th>\n",
       "      <th>genres</th>\n",
       "      <th>vote_average</th>\n",
       "      <th>release_year</th>\n",
       "      <th>budget</th>\n",
       "      <th>revenue</th>\n",
       "    </tr>\n",
       "  </thead>\n",
       "  <tbody>\n",
       "    <tr>\n",
       "      <th>0</th>\n",
       "      <td>3.6</td>\n",
       "      <td>Bridge of Spies</td>\n",
       "      <td>Steven Spielberg</td>\n",
       "      <td>Thriller|Drama</td>\n",
       "      <td>7.1</td>\n",
       "      <td>2015</td>\n",
       "      <td>36.8</td>\n",
       "      <td>149.6</td>\n",
       "    </tr>\n",
       "    <tr>\n",
       "      <th>1</th>\n",
       "      <td>1.1</td>\n",
       "      <td>Close Encounters of the Third Kind</td>\n",
       "      <td>Steven Spielberg</td>\n",
       "      <td>Science Fiction|Drama</td>\n",
       "      <td>7.0</td>\n",
       "      <td>1977</td>\n",
       "      <td>72.0</td>\n",
       "      <td>1,093.0</td>\n",
       "    </tr>\n",
       "    <tr>\n",
       "      <th>2</th>\n",
       "      <td>3.0</td>\n",
       "      <td>A.I. Artificial Intelligence</td>\n",
       "      <td>Steven Spielberg</td>\n",
       "      <td>Drama|Science Fiction|Adventure</td>\n",
       "      <td>6.6</td>\n",
       "      <td>2001</td>\n",
       "      <td>123.1</td>\n",
       "      <td>290.5</td>\n",
       "    </tr>\n",
       "    <tr>\n",
       "      <th>3</th>\n",
       "      <td>3.2</td>\n",
       "      <td>Indiana Jones and the Kingdom of the Crystal S...</td>\n",
       "      <td>Steven Spielberg</td>\n",
       "      <td>Adventure|Action</td>\n",
       "      <td>5.6</td>\n",
       "      <td>2008</td>\n",
       "      <td>187.4</td>\n",
       "      <td>796.7</td>\n",
       "    </tr>\n",
       "    <tr>\n",
       "      <th>4</th>\n",
       "      <td>2.2</td>\n",
       "      <td>The Adventures of Tintin</td>\n",
       "      <td>Steven Spielberg</td>\n",
       "      <td>Adventure|Animation|Action|Family|Mystery</td>\n",
       "      <td>6.6</td>\n",
       "      <td>2011</td>\n",
       "      <td>126.0</td>\n",
       "      <td>360.6</td>\n",
       "    </tr>\n",
       "  </tbody>\n",
       "</table>\n",
       "</div>"
      ],
      "text/plain": [
       "   popularity                                     original_title  \\\n",
       "0         3.6                                    Bridge of Spies   \n",
       "1         1.1                 Close Encounters of the Third Kind   \n",
       "2         3.0                       A.I. Artificial Intelligence   \n",
       "3         3.2  Indiana Jones and the Kingdom of the Crystal S...   \n",
       "4         2.2                           The Adventures of Tintin   \n",
       "\n",
       "           director                                     genres  vote_average  \\\n",
       "0  Steven Spielberg                             Thriller|Drama           7.1   \n",
       "1  Steven Spielberg                      Science Fiction|Drama           7.0   \n",
       "2  Steven Spielberg            Drama|Science Fiction|Adventure           6.6   \n",
       "3  Steven Spielberg                           Adventure|Action           5.6   \n",
       "4  Steven Spielberg  Adventure|Animation|Action|Family|Mystery           6.6   \n",
       "\n",
       "   release_year  budget  revenue  \n",
       "0          2015    36.8    149.6  \n",
       "1          1977    72.0  1,093.0  \n",
       "2          2001   123.1    290.5  \n",
       "3          2008   187.4    796.7  \n",
       "4          2011   126.0    360.6  "
      ]
     },
     "execution_count": 38,
     "metadata": {},
     "output_type": "execute_result"
    }
   ],
   "source": [
    "dir_df.head()"
   ]
  },
  {
   "cell_type": "code",
   "execution_count": 39,
   "metadata": {},
   "outputs": [],
   "source": [
    "dir_df=dir_df.groupby(['director']).revenue.mean()\n",
    "dir_df.sort_values(inplace=True)"
   ]
  },
  {
   "cell_type": "code",
   "execution_count": 40,
   "metadata": {
    "scrolled": true
   },
   "outputs": [
    {
     "data": {
      "image/png": "[encoded data removed]",
      "text/plain": [
       "<Figure size 864x576 with 1 Axes>"
      ]
     },
     "metadata": {},
     "output_type": "display_data"
    }
   ],
   "source": [
    "fig, ax = plt.subplots(figsize=(12,8))\n",
    "dir_df.plot(kind='barh', legend = False, ax=ax)\n",
    "ax.set_ylabel('Director')\n",
    "ax.set_xlabel('Average Revenue Generated')\n",
    "ax.set_title('Average Revenue Generated by top directors');"
   ]
  },
  {
   "cell_type": "markdown",
   "metadata": {},
   "source": [
    "We can clearly see here that Steven Spielberg has generated the most revenue even though he has worked on the most number of films. This statistic proves that he is an excellent director."
   ]
  },
  {
   "cell_type": "markdown",
   "metadata": {},
   "source": [
    "<a id='conclusions'></a>\n",
    "## Conclusions\n",
    "\n",
    "\n",
    "<b>Limitations: </b> <br>\n",
    "- A dataset of 10,000 uncleaned records is not enough by itself to discover trends within data. Considering the fact that we shall be cleaning the data and removing null values, the size of the data would reduce signifcantly. \n",
    "- An example of this in particular is the 'revenue_adj' and the 'budget_adj' coloumns where almost 50% of the coloum values contain zero values. This large number of missing values dissables us to scale the values, or compute the local average and fill these values as they would reduce the reliablity of the dataset. \n",
    "\n",
    "- Hence the biggest limitation of this dataset is the fact that that it contains a limited number of values and any conclusion that will be drawm would lack reliablity since the underlaying data is limited. \n",
    "\n",
    "- Also, the budget and the revenue should have been converted to a numerical value, as scientific notation are difficult to understand.\n",
    "\n",
    "<b>Conclusions: </b>\n",
    "The following conclusions have been deduced from our findings:\n",
    "<b>1. </b> How much has the revenue generation changed over time?\n",
    "- Revenue generation has significatly reduced over time.\n",
    "<b>2. </b> Which movie genres has the best ratings in the entire time period of the dataset?\n",
    "- Documentary, Music, History and Animation are the most successful genres.\n",
    "<b>3. </b> Which movie genres have the highest revenue generation?\n",
    "- Animation and Adventure are the most revenue generating genre.\n",
    "<b>4. </b> Which director is responsible for the highest revenue generation?\n",
    "-Steven Speilsberg is the highest revenue generator of all the directors.\n",
    "\n",
    "\n",
    "<b> Some Exploring trends within the data by observing the plots</b>\n",
    "\n",
    "- Animation is very pouplar as well as very much appreciated by the public. \n",
    "- Even though Woddy Allen has directed significant amount of movies the revenue generated by hios movies is very less. However, even though the Revenue was calculated with respect to the inflation, the value of money is significantly lower than as shown in the plots.\n",
    "- High rated movies do not have a very strong correlation with the revenue.\n",
    "\n",
    "<b>Reference:</b><br> \n",
    "- Note that the 'explode' function used to seperate the movie genres from the genre coloumns and directors from the director column was taken from the following stackoverflow question <br>\n",
    "https://stackoverflow.com/questions/12680754/split-explode-pandas-dataframe-string-entry-to-separate-rows\n",
    "<br>\n",
    "<hr>"
   ]
  },
  {
   "cell_type": "code",
   "execution_count": null,
   "metadata": {},
   "outputs": [],
   "source": []
  },
  {
   "cell_type": "code",
   "execution_count": null,
   "metadata": {},
   "outputs": [],
   "source": []
  }
 ],
 "metadata": {
  "kernelspec": {
   "display_name": "Python 3",
   "language": "python",
   "name": "python3"
  },
  "language_info": {
   "codemirror_mode": {
    "name": "ipython",
    "version": 3
   },
   "file_extension": ".py",
   "mimetype": "text/x-python",
   "name": "python",
   "nbconvert_exporter": "python",
   "pygments_lexer": "ipython3",
   "version": "3.7.6"
  }
 },
 "nbformat": 4,
 "nbformat_minor": 4
}
